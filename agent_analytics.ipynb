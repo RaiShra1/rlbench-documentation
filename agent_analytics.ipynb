{
 "nbformat": 4,
 "nbformat_minor": 2,
 "metadata": {
  "language_info": {
   "name": "python",
   "codemirror_mode": {
    "name": "ipython",
    "version": 3
   },
   "version": "3.6.9-final"
  },
  "orig_nbformat": 2,
  "file_extension": ".py",
  "mimetype": "text/x-python",
  "name": "python",
  "npconvert_exporter": "python",
  "pygments_lexer": "ipython3",
  "version": 3,
  "kernelspec": {
   "name": "python36964bitenvvenv5fc3f258ef1c42bd8f7b307d58049ba7",
   "display_name": "Python 3.6.9 64-bit ('.env': venv)"
  }
 },
 "cells": [
  {
   "cell_type": "code",
   "execution_count": 1,
   "metadata": {},
   "outputs": [
    {
     "output_type": "stream",
     "name": "stdout",
     "text": "Metadata local@/home/valay/Documents/Code-Workspace/ASU-Projects/Robotics/Pyrep-Testing\n"
    }
   ],
   "source": [
    "from metaflow import Flow,get_metadata\n",
    "print(\"Metadata\",get_metadata())\n",
    "from metaflow_train import FinalData"
   ]
  },
  {
   "cell_type": "code",
   "execution_count": 2,
   "metadata": {},
   "outputs": [],
   "source": [
    "run = list(Flow('TrainingSimulatorFlow').runs('mutant_vs_simple'))[0]"
   ]
  },
  {
   "cell_type": "code",
   "execution_count": 3,
   "metadata": {},
   "outputs": [
    {
     "output_type": "stream",
     "name": "stdout",
     "text": "\n        Agent Name : SimpleImmitationLearningAgent\n\n        Simulation Results \n\n            Total Number of Episodes : 200\n\n            Steps Per Episode : 50\n\n            Number Of Converged Cases : 25\n\n            %  Cases That Converged : 12.5\n        \n\n        Agent Name : ImmitationLearningMutantAgent\n\n        Simulation Results \n\n            Total Number of Episodes : 200\n\n            Steps Per Episode : 50\n\n            Number Of Converged Cases : 68\n\n            %  Cases That Converged : 34.0\n        \n"
    }
   ],
   "source": [
    "for data in run.data.final_data:\n",
    "    print(data)"
   ]
  },
  {
   "cell_type": "markdown",
   "metadata": {},
   "source": []
  }
 ]
}